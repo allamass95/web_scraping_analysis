{
 "cells": [
  {
   "cell_type": "code",
   "execution_count": 7,
   "metadata": {},
   "outputs": [],
   "source": [
    "from bs4 import BeautifulSoup as bs\n",
    "from splinter import Browser\n",
    "import requests\n",
    "import time \n",
    "import pandas as pd"
   ]
  },
  {
   "cell_type": "code",
   "execution_count": null,
   "metadata": {},
   "outputs": [],
   "source": [
    "def mars():\n",
    "    url='https://mars.nasa.gov/news/'\n",
    "    response=requests.get(url)\n",
    "\n",
    "    soup=bs(response.text,'html.parser')\n",
    "\n",
    "    container=soup.find_all('div',class_='slide')\n",
    "\n",
    "\n",
    "    news_title=container[0].find_all('div',class_='content_title')[0].a.text.strip()\n",
    "    news_p=container[0].find_all('div',class_='rollover_description_inner')[0].text.strip()\n",
    "    \n",
    "    \n",
    "    return(news_title,news_p)\n",
    "    \n"
   ]
  },
  {
   "cell_type": "code",
   "execution_count": null,
   "metadata": {},
   "outputs": [],
   "source": [
    "mars()"
   ]
  },
  {
   "cell_type": "code",
   "execution_count": 8,
   "metadata": {},
   "outputs": [],
   "source": [
    "def init_browser():\n",
    "    executable_path = {'executable_path': '/usr/local/bin/chromedriver'}\n",
    "    return(Browser('chrome', **executable_path, headless=False))"
   ]
  },
  {
   "cell_type": "code",
   "execution_count": null,
   "metadata": {},
   "outputs": [],
   "source": [
    "def space_img():\n",
    "    browser=init_browser()\n",
    "    \n",
    "    mars_url='https://www.jpl.nasa.gov/spaceimages/?search=&category=Mars'\n",
    "    browser.visit(mars_url)\n",
    "    time.sleep(3)\n",
    "    \n",
    "    browser.click_link_by_partial_text('FULL IMAGE')\n",
    "    time.sleep(3)\n",
    "    \n",
    "    browser.click_link_by_partial_text('more info')\n",
    "    time.sleep(3)\n",
    "    \n",
    "    browser.click_link_by_partial_text('.jpg')\n",
    "    time.sleep(3)\n",
    "\n",
    "    html = browser.html\n",
    "    soup = bs(html, 'html.parser')\n",
    "\n",
    "    featured_image_url=soup.body.img['src']\n",
    "    \n",
    "    browser.quit()\n",
    "    return(featured_image_url)"
   ]
  },
  {
   "cell_type": "code",
   "execution_count": null,
   "metadata": {},
   "outputs": [],
   "source": [
    "space_img()"
   ]
  },
  {
   "cell_type": "code",
   "execution_count": null,
   "metadata": {},
   "outputs": [],
   "source": [
    "def twitter():\n",
    "    \n",
    "    browser=init_browser()\n",
    "\n",
    "    twitter_url='https://twitter.com/marswxreport?lang=en'\n",
    "    browser.visit(twitter_url)\n",
    "    \n",
    "    html = browser.html\n",
    "    soup = bs(html, 'html.parser')\n",
    "\n",
    "    twitter=soup.find_all('div',class_='js-tweet-text-container')[1].p\n",
    "    \n",
    "    for i in twitter:\n",
    "    \n",
    "        mars_weather=i\n",
    "        return(mars_weather)\n",
    "        break\n",
    "        \n",
    "    browser.quit()"
   ]
  },
  {
   "cell_type": "code",
   "execution_count": null,
   "metadata": {},
   "outputs": [],
   "source": [
    "twitter()"
   ]
  },
  {
   "cell_type": "code",
   "execution_count": 13,
   "metadata": {},
   "outputs": [],
   "source": [
    "def space():\n",
    "    browser=init_browser()\n",
    "    space_url='https://space-facts.com/mars/'\n",
    "    browser.visit(space_url)\n",
    "    \n",
    "    data=pd.read_html(space_url)[0]\n",
    "    data=data.rename(columns={'Mars - Earth Comparison':''})\n",
    "    data=data.set_index('')\n",
    "    data=data.to_dict()\n",
    "    browser.quit()\n",
    "    return(data)\n",
    "    \n",
    "    \n",
    "    "
   ]
  },
  {
   "cell_type": "code",
   "execution_count": 14,
   "metadata": {},
   "outputs": [
    {
     "data": {
      "text/plain": [
       "{'Mars': {'Diameter:': '6,779 km',\n",
       "  'Mass:': '6.39 × 10^23 kg',\n",
       "  'Moons:': '2',\n",
       "  'Distance from Sun:': '227,943,824 km',\n",
       "  'Length of Year:': '687 Earth days',\n",
       "  'Temperature:': '-153 to 20 °C'},\n",
       " 'Earth': {'Diameter:': '12,742 km',\n",
       "  'Mass:': '5.97 × 10^24 kg',\n",
       "  'Moons:': '1',\n",
       "  'Distance from Sun:': '149,598,262 km',\n",
       "  'Length of Year:': '365.24 days',\n",
       "  'Temperature:': '-88 to 58°C'}}"
      ]
     },
     "execution_count": 14,
     "metadata": {},
     "output_type": "execute_result"
    }
   ],
   "source": [
    "space()"
   ]
  },
  {
   "cell_type": "code",
   "execution_count": null,
   "metadata": {},
   "outputs": [],
   "source": [
    "def astrology():\n",
    "    browser=init_browser()\n",
    "    astrology_url='https://astrogeology.usgs.gov/search/results?q=hemisphere+enhanced&k1=target&v1=Mars'\n",
    "    browser.visit(astrology_url)\n",
    "    \n",
    "    html = browser.html\n",
    "    soup = bs(html, 'html.parser')\n",
    "    \n",
    "    partial_link=soup.find_all('div',class_='description')\n",
    "    \n",
    "    list_link=[]   \n",
    "    for i in partial_link:\n",
    "            list_link.append(i.a.h3.text)\n",
    "    hemesphere_list=[]    \n",
    "    for i in range(4):\n",
    "    \n",
    "        #initiate browser\n",
    "        browser.visit(astrology_url)\n",
    "    \n",
    "    #print title\n",
    "            \n",
    "        title=list_link[i]\n",
    "    \n",
    "    # press link button\n",
    "        browser.click_link_by_partial_text(list_link[i])\n",
    "    \n",
    "    # parse new webpage\n",
    "        html = browser.html\n",
    "        soup = bs(html, 'html.parser')\n",
    "    \n",
    "    #print img_url\n",
    "        img_url=soup.find_all('div',class_='content')[0].dl.a['href']\n",
    "    \n",
    "    #set up dictionaries and append to list\n",
    "        dict_hems={}\n",
    "        dict_hems['img_url']=soup.find_all('div',class_='content')[0].dl.a['href']\n",
    "        dict_hems['title']=list_link[i]\n",
    "        hemesphere_list.append(dict_hems)\n",
    "        \n",
    "#         astrology_data = {\n",
    "#         \"title\": title,\n",
    "#         \"img_url\": img_url }\n",
    "        \n",
    "        \n",
    "    browser.quit()    \n",
    "    return(hemesphere_list)"
   ]
  },
  {
   "cell_type": "code",
   "execution_count": null,
   "metadata": {},
   "outputs": [],
   "source": [
    "astrology()"
   ]
  },
  {
   "cell_type": "code",
   "execution_count": null,
   "metadata": {},
   "outputs": [],
   "source": [
    "\n"
   ]
  },
  {
   "cell_type": "code",
   "execution_count": null,
   "metadata": {},
   "outputs": [],
   "source": []
  },
  {
   "cell_type": "code",
   "execution_count": null,
   "metadata": {},
   "outputs": [],
   "source": []
  },
  {
   "cell_type": "code",
   "execution_count": null,
   "metadata": {},
   "outputs": [],
   "source": []
  },
  {
   "cell_type": "code",
   "execution_count": null,
   "metadata": {},
   "outputs": [],
   "source": []
  },
  {
   "cell_type": "code",
   "execution_count": 23,
   "metadata": {},
   "outputs": [],
   "source": [
    "from bs4 import BeautifulSoup as bs\n",
    "from splinter import Browser\n",
    "import requests\n",
    "import time \n",
    "import pandas as pd\n",
    "\n",
    "def init_browser():\n",
    "    executable_path = {'executable_path': '/usr/local/bin/chromedriver'}\n",
    "    return(Browser('chrome', **executable_path, headless=False))\n",
    "\n",
    "\n",
    "def scrape():\n",
    "    \n",
    "    dictionary={}\n",
    "    \n",
    "    url='https://mars.nasa.gov/news/'\n",
    "    response=requests.get(url)\n",
    "\n",
    "    soup=bs(response.text,'html.parser')\n",
    "\n",
    "    container=soup.find_all('div',class_='slide')\n",
    "\n",
    "\n",
    "    news_title=container[0].find_all('div',class_='content_title')[0].a.text.strip()\n",
    "    news_p=container[0].find_all('div',class_='rollover_description_inner')[0].text.strip()\n",
    "    \n",
    "    dictionary['title']=news_title\n",
    "    dictionary['paragraph']=news_p\n",
    "    \n",
    "    \n",
    "    \n",
    "    \n",
    "    \n",
    "    browser=init_browser()\n",
    "    \n",
    "    mars_url='https://www.jpl.nasa.gov/spaceimages/?search=&category=Mars'\n",
    "    browser.visit(mars_url)\n",
    "    time.sleep(3)\n",
    "    \n",
    "    browser.click_link_by_partial_text('FULL IMAGE')\n",
    "    time.sleep(3)\n",
    "    \n",
    "    browser.click_link_by_partial_text('more info')\n",
    "    time.sleep(3)\n",
    "    \n",
    "    browser.click_link_by_partial_text('.jpg')\n",
    "    time.sleep(3)\n",
    "\n",
    "    html = browser.html\n",
    "    soup = bs(html, 'html.parser')\n",
    "\n",
    "    featured_image_url=soup.body.img['src']\n",
    "    \n",
    "    dictionary['image_url']=featured_image_url\n",
    "    \n",
    "    \n",
    "    \n",
    "    \n",
    "    \n",
    "    \n",
    "  \n",
    "    twitter_url='https://twitter.com/marswxreport?lang=en'\n",
    "    browser.visit(twitter_url)\n",
    "   \n",
    "    html = browser.html\n",
    "    soup = bs(html, 'html.parser')\n",
    "\n",
    "    twitter=soup.find_all('div',class_='js-tweet-text-container')[1].p\n",
    "    \n",
    "    for i in twitter:\n",
    "    \n",
    "        mars_weather=i\n",
    "        dictionary['weather']=mars_weather\n",
    "        break\n",
    "       \n",
    "    \n",
    "    \n",
    "    \n",
    "    \n",
    "    \n",
    "    space_url='https://space-facts.com/mars/'\n",
    "    browser.visit(space_url)\n",
    "    \n",
    "    data=pd.read_html(space_url)[0]\n",
    "    data=data.rename(columns={'Mars - Earth Comparison':''})\n",
    "    data=data.set_index('')\n",
    "    data=data.to_dict()\n",
    "    dictionary['Mars_Earth']=data    \n",
    "        \n",
    "    \n",
    "    \n",
    "    \n",
    "    \n",
    "    \n",
    "    \n",
    "    astrology_url='https://astrogeology.usgs.gov/search/results?q=hemisphere+enhanced&k1=target&v1=Mars'\n",
    "    browser.visit(astrology_url)\n",
    "    \n",
    "    html = browser.html\n",
    "    soup = bs(html, 'html.parser')\n",
    "    \n",
    "    partial_link=soup.find_all('div',class_='description')\n",
    "    \n",
    "    list_link=[]   \n",
    "    for i in partial_link:\n",
    "            list_link.append(i.a.h3.text)\n",
    "    for i in range(4):\n",
    "    \n",
    "        #initiate browser\n",
    "        browser.visit(astrology_url)\n",
    "    \n",
    "    #print title\n",
    "            \n",
    "        title=list_link[i]\n",
    "    \n",
    "    # press link button\n",
    "        browser.click_link_by_partial_text(list_link[i])\n",
    "    \n",
    "    # parse new webpage\n",
    "        html = browser.html\n",
    "        soup = bs(html, 'html.parser')\n",
    "    \n",
    "    #print img_url\n",
    "        img_url=soup.find_all('div',class_='content')[0].dl.a['href']\n",
    "    \n",
    "    #set up dictionaries and append to list\n",
    "        \n",
    "        dictionary['img_url']=soup.find_all('div',class_='content')[0].dl.a['href']\n",
    "        dictionary['name']=list_link[i]\n",
    "        \n",
    "    \n",
    "    \n",
    "    browser.quit()\n",
    "    return(dictionary)"
   ]
  },
  {
   "cell_type": "code",
   "execution_count": 24,
   "metadata": {},
   "outputs": [
    {
     "data": {
      "text/plain": [
       "{'title': 'NASA Invites Students to Name Mars 2020 Rover',\n",
       " 'paragraph': \"Through Nov. 1, K-12 students in the U.S. are encouraged to enter an essay contest to name NASA's next Mars rover.\",\n",
       " 'image_url': 'https://photojournal.jpl.nasa.gov/jpeg/PIA15283.jpg',\n",
       " 'weather': 'InSight sol 265 (2019-08-25) low -99.4ºC (-146.9ºF) high -26.3ºC (-15.3ºF)\\nwinds from the SSE at 5.3 m/s (12.0 mph) gusting to 16.1 m/s (35.9 mph)\\npressure at 7.50 hPa',\n",
       " 'Mars_Earth': {'Mars': {'Diameter:': '6,779 km',\n",
       "   'Mass:': '6.39 × 10^23 kg',\n",
       "   'Moons:': '2',\n",
       "   'Distance from Sun:': '227,943,824 km',\n",
       "   'Length of Year:': '687 Earth days',\n",
       "   'Temperature:': '-153 to 20 °C'},\n",
       "  'Earth': {'Diameter:': '12,742 km',\n",
       "   'Mass:': '5.97 × 10^24 kg',\n",
       "   'Moons:': '1',\n",
       "   'Distance from Sun:': '149,598,262 km',\n",
       "   'Length of Year:': '365.24 days',\n",
       "   'Temperature:': '-88 to 58°C'}},\n",
       " 'img_url': 'http://astropedia.astrogeology.usgs.gov/download/Mars/Viking/valles_marineris_enhanced.tif',\n",
       " 'name': 'Valles Marineris Hemisphere Enhanced'}"
      ]
     },
     "execution_count": 24,
     "metadata": {},
     "output_type": "execute_result"
    }
   ],
   "source": [
    "scrape()"
   ]
  },
  {
   "cell_type": "code",
   "execution_count": null,
   "metadata": {},
   "outputs": [],
   "source": []
  }
 ],
 "metadata": {
  "kernelspec": {
   "display_name": "Python 3",
   "language": "python",
   "name": "python3"
  },
  "language_info": {
   "codemirror_mode": {
    "name": "ipython",
    "version": 3
   },
   "file_extension": ".py",
   "mimetype": "text/x-python",
   "name": "python",
   "nbconvert_exporter": "python",
   "pygments_lexer": "ipython3",
   "version": "3.7.3"
  }
 },
 "nbformat": 4,
 "nbformat_minor": 2
}
